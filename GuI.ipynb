{
 "cells": [
  {
   "cell_type": "code",
   "execution_count": 1,
   "metadata": {},
   "outputs": [],
   "source": [
    "import pandas as pd\n",
    "import librosa\n",
    "from tkinter import filedialog\n",
    "import numpy as np\n",
    "import joblib\n",
    "\n",
    "import tkinter as tk\n"
   ]
  },
  {
   "cell_type": "code",
   "execution_count": 1,
   "metadata": {},
   "outputs": [],
   "source": [
    "import joblib\n",
    "model=joblib.load(\"voice.pkl\")"
   ]
  },
  {
   "cell_type": "code",
   "execution_count": 2,
   "metadata": {},
   "outputs": [],
   "source": [
    "def predict_gender():\n",
    "    # Open a file dialog to select an audio file\n",
    "    file_path = filedialog.askopenfilename(\n",
    "        filetypes=[(\"Audio Files\", \"*.wav\")])\n",
    "\n",
    "    if file_path:\n",
    "        try:\n",
    "            # Extract audio features from the selected file\n",
    "            audio_features = extract_features(file_path)\n",
    "\n",
    "            # Predict the gender using the loaded model\n",
    "            gender = model.predict([audio_features])[0]\n",
    "\n",
    "            # Display the result\n",
    "            result_label.config(\n",
    "                text=f\"Predicted Gender: {'Male' if gender == 0 else 'Female'}\")\n",
    "        except Exception as e:\n",
    "            result_label.config(text=f\"Error: {str(e)}\")\n",
    "    else:\n",
    "        result_label.config(text=\"No file selected.\")\n",
    "\n",
    "# Function to extract audio features from a file\n",
    "\n",
    "\n",
    "def extract_features(file_path):\n",
    "    audio, sr = librosa.load(file_path, sr=None)\n",
    "    mfcc_features = librosa.feature.mfcc(y=audio, sr=sr)\n",
    "    # Calculate the mean along columns\n",
    "    mean_mfcc = np.mean(mfcc_features, axis=1)\n",
    "    return mean_mfcc\n",
    "\n",
    "\n",
    "# Create the main window\n",
    "root = tk.Tk()\n",
    "root.title(\"Gender Identification from Audio\")\n",
    "\n",
    "# Create and configure widgets\n",
    "frame = tk.Frame(root)\n",
    "frame.pack(padx=20, pady=20)\n",
    "\n",
    "select_button = tk.Button(\n",
    "    frame, text=\"Select Audio File\", command=predict_gender)\n",
    "select_button.pack()\n",
    "\n",
    "result_label = tk.Label(frame, text=\"\", font=(\"Helvetica\", 14))\n",
    "result_label.pack()\n",
    "\n",
    "# Run the main GUI event loop\n",
    "root.mainloop()\n",
    "\n",
    "    "
   ]
  },
  {
   "cell_type": "code",
   "execution_count": null,
   "metadata": {},
   "outputs": [],
   "source": []
  },
  {
   "cell_type": "code",
   "execution_count": null,
   "metadata": {},
   "outputs": [],
   "source": []
  }
 ],
 "metadata": {
  "kernelspec": {
   "display_name": "Python 3",
   "language": "python",
   "name": "python3"
  },
  "language_info": {
   "codemirror_mode": {
    "name": "ipython",
    "version": 3
   },
   "file_extension": ".py",
   "mimetype": "text/x-python",
   "name": "python",
   "nbconvert_exporter": "python",
   "pygments_lexer": "ipython3",
   "version": "3.10.10"
  }
 },
 "nbformat": 4,
 "nbformat_minor": 2
}
