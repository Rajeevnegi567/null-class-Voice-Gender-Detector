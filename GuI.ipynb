{
 "cells": [
  {
   "cell_type": "code",
   "execution_count": 1,
   "metadata": {},
   "outputs": [],
   "source": [
    "import pandas as pd\n",
    "import librosa\n",
    "from tkinter import filedialog\n",
    "import numpy as np\n",
    "import joblib\n",
    "\n",
    "\n"
   ]
  },
  {
   "cell_type": "code",
   "execution_count": 1,
   "metadata": {},
   "outputs": [],
   "source": [
    "import joblib\n",
    "model=joblib.load(\"voice.pkl\")"
   ]
  },
  {
   "cell_type": "code",
   "execution_count": 2,
   "metadata": {},
   "outputs": [
    {
     "ename": "NameError",
     "evalue": "name 'file_path' is not defined",
     "output_type": "error",
     "traceback": [
      "\u001b[1;31m---------------------------------------------------------------------------\u001b[0m",
      "\u001b[1;31mNameError\u001b[0m                                 Traceback (most recent call last)",
      "\u001b[1;32m~\\AppData\\Local\\Temp\\ipykernel_2656\\3437409124.py\u001b[0m in \u001b[0;36m<module>\u001b[1;34m\u001b[0m\n\u001b[0;32m      3\u001b[0m     \u001b[0mfiletypes\u001b[0m\u001b[1;33m=\u001b[0m\u001b[1;33m[\u001b[0m\u001b[1;33m(\u001b[0m\u001b[1;34m\"Audio Files\"\u001b[0m\u001b[1;33m,\u001b[0m\u001b[1;34m\"*.wav\"\u001b[0m\u001b[1;33m)\u001b[0m\u001b[1;33m]\u001b[0m\u001b[1;33m\u001b[0m\u001b[1;33m\u001b[0m\u001b[0m\n\u001b[0;32m      4\u001b[0m )\n\u001b[1;32m----> 5\u001b[1;33m \u001b[1;32mif\u001b[0m \u001b[0mfile_path\u001b[0m\u001b[1;33m:\u001b[0m\u001b[1;33m\u001b[0m\u001b[1;33m\u001b[0m\u001b[0m\n\u001b[0m\u001b[0;32m      6\u001b[0m     \u001b[1;32mtry\u001b[0m\u001b[1;33m:\u001b[0m\u001b[1;33m\u001b[0m\u001b[1;33m\u001b[0m\u001b[0m\n\u001b[0;32m      7\u001b[0m         \u001b[0maudio_features\u001b[0m\u001b[1;33m=\u001b[0m\u001b[0mextract_features\u001b[0m\u001b[1;33m(\u001b[0m\u001b[0mfile_path\u001b[0m\u001b[1;33m)\u001b[0m\u001b[1;33m\u001b[0m\u001b[1;33m\u001b[0m\u001b[0m\n",
      "\u001b[1;31mNameError\u001b[0m: name 'file_path' is not defined"
     ]
    }
   ],
   "source": [
    "\n",
    "def predict_gender():\n",
    "  def file_path =filedialog.askopenfilename(\n",
    "    filetypes=[(\"Audio Files\",\"*.wav\")]\n",
    ")\n",
    "if file_path:\n",
    "    try:\n",
    "        audio_features=extract_features(file_path)\n",
    "        gender=model.predict([audio_features])[0]\n",
    "        result_lable.config(\n",
    "            text=f\"predicated Gender:{'Male' if gender ==0 else 'female'}\"\n",
    "        ) \n",
    "    except Exception as e:\n",
    "            result_lable.config(text=f\"Error :{str(e)}\")\n",
    "    else:\n",
    "        result_lable.config(text=\"file not select\" )\n",
    "\n",
    "    def extract_features(file_path):\n",
    "                    audio,sr=librosa.load(file_path,sr=None)\n",
    "                    mfcc_features=librosa.feature.mfcc(y=audio,sr=sr)\n",
    "                    mean_mfcc=np.mean(mfcc_features,axis=1)\n",
    "                    root=tk.Tk()\n",
    "                    root.title(\"Gender Identification from Audio\")\n",
    "                    frame =tk.Frame(root)\n",
    "                    frame.pack(padx=20,pady=20)\n",
    "                    select_button=tk.Button(\n",
    "                        frame,text=\"Select Audio File\",command=predict_gender\n",
    "                    )\n",
    "                    select_button.pack()\n",
    "                    result_lable=tk.Lable(frame,text=\"\" ,font=(\"Helvatica\",14))\n",
    "                    result_label.pack()\n",
    "                    root.mainloop()\n"
   ]
  },
  {
   "cell_type": "code",
   "execution_count": null,
   "metadata": {},
   "outputs": [],
   "source": []
  },
  {
   "cell_type": "code",
   "execution_count": null,
   "metadata": {},
   "outputs": [],
   "source": []
  }
 ],
 "metadata": {
  "kernelspec": {
   "display_name": "Python 3",
   "language": "python",
   "name": "python3"
  },
  "language_info": {
   "codemirror_mode": {
    "name": "ipython",
    "version": 3
   },
   "file_extension": ".py",
   "mimetype": "text/x-python",
   "name": "python",
   "nbconvert_exporter": "python",
   "pygments_lexer": "ipython3",
   "version": "3.9.13"
  }
 },
 "nbformat": 4,
 "nbformat_minor": 2
}
